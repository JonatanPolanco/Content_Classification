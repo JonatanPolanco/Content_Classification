{
  "nbformat": 4,
  "nbformat_minor": 0,
  "metadata": {
    "colab": {
      "provenance": [],
      "authorship_tag": "ABX9TyPZYAen0s2C9xWRTUjMKe97",
      "include_colab_link": true
    },
    "kernelspec": {
      "name": "python3",
      "display_name": "Python 3"
    },
    "language_info": {
      "name": "python"
    }
  },
  "cells": [
    {
      "cell_type": "markdown",
      "metadata": {
        "id": "view-in-github",
        "colab_type": "text"
      },
      "source": [
        "<a href=\"https://colab.research.google.com/github/JonatanPolanco/Content_Classification/blob/main/Text_embedding_Learning.ipynb\" target=\"_parent\"><img src=\"https://colab.research.google.com/assets/colab-badge.svg\" alt=\"Open In Colab\"/></a>"
      ]
    },
    {
      "cell_type": "markdown",
      "source": [
        "based on https://machinelearningmastery.com/use-word-embedding-layers-deep-learning-keras/"
      ],
      "metadata": {
        "id": "Br3k3q3yE8c3"
      }
    },
    {
      "cell_type": "code",
      "source": [
        "!pip install -U sentence-transformers"
      ],
      "metadata": {
        "id": "JI01fEvniNE8"
      },
      "execution_count": null,
      "outputs": []
    },
    {
      "cell_type": "code",
      "execution_count": null,
      "metadata": {
        "id": "n2jQBWbo-lKV"
      },
      "outputs": [],
      "source": [
        "from numpy import array\n",
        "from keras.preprocessing.text import Tokenizer\n",
        "from keras.preprocessing.text import one_hot\n",
        "from keras.preprocessing.sequence import pad_sequences\n",
        "from keras.models import Sequential\n",
        "from keras.layers import Dense\n",
        "from keras.layers import Flatten\n",
        "from keras.layers import Embedding"
      ]
    },
    {
      "cell_type": "code",
      "source": [
        "#Data\n",
        "reviews = ['good food',\n",
        "\t\t'amazing restaurant',\n",
        "\t\t'too good',\n",
        "\t\t'just loved it!',\n",
        "\t\t'will go again',\n",
        "\t\t'horrible food',\n",
        "\t\t'never go there',\n",
        "\t\t'poor service',\n",
        "\t\t'poor quality',\n",
        "\t\t'could have done better.']\n",
        "\n",
        "# define class\n",
        "sentiment = array([1,1,1,1,1,0,0,0,0,0])"
      ],
      "metadata": {
        "id": "mT5dvcwh-p7u"
      },
      "execution_count": null,
      "outputs": []
    },
    {
      "cell_type": "code",
      "source": [
        "t = Tokenizer()\n",
        "t.fit_on_texts(reviews)\n",
        "vocab_size = 130\n",
        "encoded_reviews = [one_hot(d,vocab_size) for d in reviews]\n",
        "encoded_reviews"
      ],
      "metadata": {
        "colab": {
          "base_uri": "https://localhost:8080/"
        },
        "id": "Ywr1LAkx_hEh",
        "outputId": "e01cdc36-64dc-4f07-c00c-97a6b5937ba9"
      },
      "execution_count": null,
      "outputs": [
        {
          "output_type": "execute_result",
          "data": {
            "text/plain": [
              "[[71, 52],\n",
              " [4, 26],\n",
              " [23, 71],\n",
              " [35, 65, 89],\n",
              " [94, 120, 15],\n",
              " [117, 52],\n",
              " [114, 120, 99],\n",
              " [15, 14],\n",
              " [15, 59],\n",
              " [109, 12, 39, 129]]"
            ]
          },
          "metadata": {},
          "execution_count": 54
        }
      ]
    },
    {
      "cell_type": "code",
      "source": [
        "max_length = 4\n",
        "padded_reviews = pad_sequences(encoded_reviews,maxlen=max_length, padding='post')\n",
        "padded_reviews"
      ],
      "metadata": {
        "colab": {
          "base_uri": "https://localhost:8080/"
        },
        "id": "7SZ6HzJ9_i54",
        "outputId": "f5da0406-7ec3-464c-df86-e09b48e247e1"
      },
      "execution_count": null,
      "outputs": [
        {
          "output_type": "execute_result",
          "data": {
            "text/plain": [
              "array([[ 71,  52,   0,   0],\n",
              "       [  4,  26,   0,   0],\n",
              "       [ 23,  71,   0,   0],\n",
              "       [ 35,  65,  89,   0],\n",
              "       [ 94, 120,  15,   0],\n",
              "       [117,  52,   0,   0],\n",
              "       [114, 120,  99,   0],\n",
              "       [ 15,  14,   0,   0],\n",
              "       [ 15,  59,   0,   0],\n",
              "       [109,  12,  39, 129]], dtype=int32)"
            ]
          },
          "metadata": {},
          "execution_count": 55
        }
      ]
    },
    {
      "cell_type": "code",
      "source": [
        "embedded_vector_size = 100\n",
        "model= Sequential()\n",
        "model.add(Embedding(vocab_size, embedded_vector_size, input_length=max_length, name=\"embedding\"))\n",
        "model.add(Flatten())\n",
        "model.add(Dense(1,activation='sigmoid'))"
      ],
      "metadata": {
        "id": "Diys1ozXDK2m"
      },
      "execution_count": null,
      "outputs": []
    },
    {
      "cell_type": "code",
      "source": [
        "x= padded_reviews\n",
        "y = sentiment"
      ],
      "metadata": {
        "id": "kSHnXCVGFYvA"
      },
      "execution_count": null,
      "outputs": []
    },
    {
      "cell_type": "code",
      "source": [
        "model.compile(optimizer='adam', loss= 'binary_crossentropy', metrics= ['accuracy'])\n",
        "model.summary()"
      ],
      "metadata": {
        "colab": {
          "base_uri": "https://localhost:8080/"
        },
        "id": "ddfAVG09Fp94",
        "outputId": "bdfb67a4-5b64-47e6-d5ac-4a0ddf333140"
      },
      "execution_count": null,
      "outputs": [
        {
          "output_type": "stream",
          "name": "stdout",
          "text": [
            "Model: \"sequential_2\"\n",
            "_________________________________________________________________\n",
            " Layer (type)                Output Shape              Param #   \n",
            "=================================================================\n",
            " embedding (Embedding)       (None, 4, 100)            13000     \n",
            "                                                                 \n",
            " flatten_2 (Flatten)         (None, 400)               0         \n",
            "                                                                 \n",
            " dense_2 (Dense)             (None, 1)                 401       \n",
            "                                                                 \n",
            "=================================================================\n",
            "Total params: 13401 (52.35 KB)\n",
            "Trainable params: 13401 (52.35 KB)\n",
            "Non-trainable params: 0 (0.00 Byte)\n",
            "_________________________________________________________________\n"
          ]
        }
      ]
    },
    {
      "cell_type": "code",
      "source": [
        "model.fit(x,y,epochs=50, verbose=0)"
      ],
      "metadata": {
        "colab": {
          "base_uri": "https://localhost:8080/"
        },
        "id": "oZLJYV81Gz-I",
        "outputId": "9ae6fba8-aeef-43f3-974d-17415a35f0b9"
      },
      "execution_count": null,
      "outputs": [
        {
          "output_type": "execute_result",
          "data": {
            "text/plain": [
              "<keras.src.callbacks.History at 0x7dcab5f37f10>"
            ]
          },
          "metadata": {},
          "execution_count": 59
        }
      ]
    },
    {
      "cell_type": "code",
      "source": [
        "loss,accuracy= model.evaluate(x,y)\n",
        "print('Accuracy: %f' % (accuracy*100))"
      ],
      "metadata": {
        "colab": {
          "base_uri": "https://localhost:8080/"
        },
        "id": "vT6CfDrGHFKF",
        "outputId": "2d1f8b15-9038-4d96-ee92-6185bed5a970"
      },
      "execution_count": null,
      "outputs": [
        {
          "output_type": "stream",
          "name": "stdout",
          "text": [
            "1/1 [==============================] - 0s 172ms/step - loss: 0.3228 - accuracy: 1.0000\n",
            "Accuracy: 100.000000\n"
          ]
        }
      ]
    },
    {
      "cell_type": "code",
      "source": [
        "weights= model.get_layer('embedding').get_weights()[0]\n",
        "len(weights)"
      ],
      "metadata": {
        "colab": {
          "base_uri": "https://localhost:8080/"
        },
        "id": "f_O2cCDFIOJG",
        "outputId": "6534b2ed-4155-4ece-b300-64e794269cc2"
      },
      "execution_count": null,
      "outputs": [
        {
          "output_type": "execute_result",
          "data": {
            "text/plain": [
              "130"
            ]
          },
          "metadata": {},
          "execution_count": 61
        }
      ]
    },
    {
      "cell_type": "code",
      "source": [
        "weights[117]"
      ],
      "metadata": {
        "colab": {
          "base_uri": "https://localhost:8080/"
        },
        "id": "n4IS7dudIr5t",
        "outputId": "5db149b2-bf25-4751-eb23-aeb2ba0e6a5c"
      },
      "execution_count": null,
      "outputs": [
        {
          "output_type": "execute_result",
          "data": {
            "text/plain": [
              "array([ 0.08349814, -0.05257966, -0.05788439,  0.04783811, -0.06385551,\n",
              "        0.05785656,  0.05388582,  0.10341027, -0.05280482, -0.00130491,\n",
              "       -0.07161933, -0.01659988,  0.0175749 ,  0.09786219, -0.08276951,\n",
              "        0.08516009,  0.09092549,  0.07642715, -0.06017594, -0.07666586,\n",
              "        0.04959184,  0.02287739, -0.07632209,  0.00943629, -0.09266154,\n",
              "        0.0206752 , -0.05855923,  0.0798265 , -0.06334135, -0.03347407,\n",
              "        0.06295931, -0.01566822,  0.00019928, -0.03788371,  0.09934629,\n",
              "        0.00171272, -0.0917448 , -0.1003641 ,  0.07003972,  0.03741294,\n",
              "       -0.00238982, -0.01119515, -0.02199811, -0.04890532, -0.05737294,\n",
              "       -0.08713874, -0.03533809,  0.08034632,  0.07473619, -0.03410041,\n",
              "       -0.04594469,  0.04102343,  0.06892746, -0.10049187,  0.08447859,\n",
              "        0.02160194,  0.05292599, -0.03180389,  0.10217924, -0.01368782,\n",
              "        0.01496177, -0.05330318, -0.03477738,  0.06099873, -0.05956981,\n",
              "        0.06674169, -0.06842321, -0.00762468,  0.01287811,  0.01765824,\n",
              "        0.0751093 , -0.05464904,  0.08558662, -0.05787197, -0.09843329,\n",
              "       -0.06940303,  0.03816278, -0.05453759, -0.05502339, -0.08109079,\n",
              "       -0.06133925,  0.09310243, -0.08524231,  0.00139466, -0.09880138,\n",
              "       -0.0115707 ,  0.03943056,  0.05720571,  0.02425309, -0.06799307,\n",
              "        0.00423174, -0.0268581 ,  0.02749332,  0.0119881 ,  0.02929429,\n",
              "       -0.07874786, -0.05338613,  0.02307933,  0.03764454, -0.09788989],\n",
              "      dtype=float32)"
            ]
          },
          "metadata": {},
          "execution_count": 68
        }
      ]
    },
    {
      "cell_type": "code",
      "source": [
        "weights[114]"
      ],
      "metadata": {
        "colab": {
          "base_uri": "https://localhost:8080/"
        },
        "id": "-zAcBzQAIy0G",
        "outputId": "03c994b8-8c65-40cd-aae8-dab2cf227632"
      },
      "execution_count": null,
      "outputs": [
        {
          "output_type": "execute_result",
          "data": {
            "text/plain": [
              "array([ 0.07052068, -0.07375976, -0.06692451,  0.03569016, -0.03397086,\n",
              "        0.03864356,  0.03883489,  0.07856889, -0.04743697, -0.03426807,\n",
              "       -0.07867155, -0.00217061,  0.0986209 ,  0.06580832, -0.10195778,\n",
              "        0.09111097,  0.04068038,  0.05990468, -0.06213154, -0.00328017,\n",
              "        0.07399171,  0.08337041, -0.08746962,  0.06537665, -0.04680556,\n",
              "        0.06662856, -0.05063967,  0.04956407, -0.09207786, -0.06721056,\n",
              "        0.09953929, -0.0388265 , -0.05196716, -0.05619882,  0.08841241,\n",
              "        0.0278171 , -0.00806591, -0.04265732,  0.03096014,  0.02476937,\n",
              "       -0.01238192, -0.02893149, -0.07998466, -0.08088823, -0.07731205,\n",
              "       -0.09628879, -0.06588861,  0.06089277,  0.00993542,  0.0222324 ,\n",
              "       -0.03345624,  0.07342292,  0.00267123, -0.04261241,  0.02395613,\n",
              "        0.06772646,  0.07112404, -0.00341054,  0.07334675, -0.03100235,\n",
              "        0.08003385, -0.02020354, -0.03562322,  0.00278389, -0.10317554,\n",
              "        0.07803485, -0.05386138, -0.07368977,  0.04129495,  0.05765416,\n",
              "        0.02508058, -0.06580784,  0.07726728, -0.05224254, -0.04566025,\n",
              "       -0.08701078,  0.0728982 , -0.0364407 , -0.03385165, -0.05838865,\n",
              "       -0.03773269,  0.02538352, -0.07609211,  0.00176506, -0.09487094,\n",
              "        0.00319375,  0.06587562,  0.07581025, -0.00213744, -0.07925443,\n",
              "        0.09584023, -0.03540156,  0.0547691 ,  0.09266406, -0.00392598,\n",
              "       -0.08621014, -0.05106646,  0.03581354,  0.09468316, -0.00806801],\n",
              "      dtype=float32)"
            ]
          },
          "metadata": {},
          "execution_count": 69
        }
      ]
    },
    {
      "cell_type": "code",
      "source": [
        "from scipy.spatial.distance import cosine\n",
        "1-cosine(weights[117], weights[114])\n"
      ],
      "metadata": {
        "colab": {
          "base_uri": "https://localhost:8080/"
        },
        "id": "MMGy5gWYl8R_",
        "outputId": "8c7cba65-3316-48d0-e2aa-33bd808a5eb4"
      },
      "execution_count": null,
      "outputs": [
        {
          "output_type": "execute_result",
          "data": {
            "text/plain": [
              "0.8014395833015442"
            ]
          },
          "metadata": {},
          "execution_count": 78
        }
      ]
    },
    {
      "cell_type": "markdown",
      "source": [
        "Based on https://github.com/PradipNichite/Youtube-Tutorials/blob/main/Youtube_Course_Sentence_Transformers.ipynb\n",
        "\n",
        "https://www.youtube.com/watch?v=OlhNZg4gOvA"
      ],
      "metadata": {
        "id": "WUb2CXXKibsb"
      }
    },
    {
      "cell_type": "code",
      "source": [
        "from sentence_transformers import SentenceTransformer,util\n",
        "model = SentenceTransformer('all-MiniLM-L6-v2')"
      ],
      "metadata": {
        "id": "sD52Wzh4iLz1"
      },
      "execution_count": null,
      "outputs": []
    },
    {
      "cell_type": "code",
      "source": [
        "sentences = ['A man is eating food.',\n",
        "          'A man is eating a piece of bread.',\n",
        "          'The girl is carrying a baby.',\n",
        "          'A man is riding a horse.',\n",
        "          'A woman is playing violin.',\n",
        "          'Two men pushed carts through the woods.',\n",
        "          'A man is riding a white horse on an enclosed ground.',\n",
        "          'A monkey is playing drums.',\n",
        "          'Someone in a gorilla costume is playing a set of drums.'\n",
        "          ]\n",
        "\n",
        "#Encode all sentences\n",
        "embeddings = model.encode(sentences)\n",
        "\n",
        "#Compute cosine similarity between all pairs\n",
        "cos_sim = util.cos_sim(embeddings, embeddings)\n",
        "\n",
        "cos_sim"
      ],
      "metadata": {
        "colab": {
          "base_uri": "https://localhost:8080/"
        },
        "id": "GuU-JWqliiOF",
        "outputId": "2d94dd28-4dba-490e-8212-a12e54e3d3fc"
      },
      "execution_count": null,
      "outputs": [
        {
          "output_type": "execute_result",
          "data": {
            "text/plain": [
              "tensor([[ 1.0000,  0.7553, -0.1050,  0.2474, -0.0704, -0.0333,  0.1707,  0.0476,\n",
              "          0.0630],\n",
              "        [ 0.7553,  1.0000, -0.0610,  0.1442, -0.0809, -0.0216,  0.1157,  0.0362,\n",
              "          0.0216],\n",
              "        [-0.1050, -0.0610,  1.0000, -0.1088,  0.0217, -0.0413, -0.0928,  0.0231,\n",
              "          0.0247],\n",
              "        [ 0.2474,  0.1442, -0.1088,  1.0000, -0.0348,  0.0362,  0.7369,  0.0821,\n",
              "          0.1389],\n",
              "        [-0.0704, -0.0809,  0.0217, -0.0348,  1.0000, -0.1654, -0.0592,  0.1961,\n",
              "          0.2564],\n",
              "        [-0.0333, -0.0216, -0.0413,  0.0362, -0.1654,  1.0000,  0.0769, -0.0380,\n",
              "         -0.0895],\n",
              "        [ 0.1707,  0.1157, -0.0928,  0.7369, -0.0592,  0.0769,  1.0000,  0.0495,\n",
              "          0.1191],\n",
              "        [ 0.0476,  0.0362,  0.0231,  0.0821,  0.1961, -0.0380,  0.0495,  1.0000,\n",
              "          0.6433],\n",
              "        [ 0.0630,  0.0216,  0.0247,  0.1389,  0.2564, -0.0895,  0.1191,  0.6433,\n",
              "          1.0000]])"
            ]
          },
          "metadata": {},
          "execution_count": 39
        }
      ]
    },
    {
      "cell_type": "code",
      "source": [
        "embeddings[1]"
      ],
      "metadata": {
        "colab": {
          "base_uri": "https://localhost:8080/"
        },
        "id": "oCrYks0Xlan-",
        "outputId": "806273a6-6e71-41aa-cb57-e58dd8256944"
      },
      "execution_count": null,
      "outputs": [
        {
          "output_type": "execute_result",
          "data": {
            "text/plain": [
              "array([ 5.25184199e-02,  5.52413054e-02, -1.11882035e-02, -5.74539369e-03,\n",
              "       -1.27208263e-01, -2.22518295e-02,  7.68786594e-02,  1.31851463e-02,\n",
              "       -2.54259203e-02,  6.55381754e-02, -1.67244542e-02, -4.14088853e-02,\n",
              "       -8.71009529e-02, -3.97862010e-02,  4.49407031e-04, -5.87471537e-02,\n",
              "        8.69543999e-02,  1.79728232e-02,  6.68900609e-02,  4.26590629e-03,\n",
              "        6.96159750e-02,  8.58952105e-02,  3.43692154e-02, -4.27250452e-02,\n",
              "        9.67469998e-03, -1.49257807e-02,  1.12933643e-01, -5.82889095e-02,\n",
              "       -7.23475078e-03, -3.63896526e-02,  7.91820288e-02, -5.31536341e-03,\n",
              "        3.48646678e-02, -3.00621446e-02, -5.00721261e-02, -4.93985675e-02,\n",
              "        9.21830013e-02, -2.92388368e-02,  4.31469716e-02, -1.43452985e-02,\n",
              "        1.46957748e-02, -6.34765439e-03, -8.00972153e-03,  7.64189065e-02,\n",
              "       -3.97982299e-02,  3.23388465e-02, -4.89241108e-02,  3.78988832e-02,\n",
              "        1.72386542e-02, -2.70875953e-02, -5.47547750e-02,  2.77214334e-03,\n",
              "        3.52052003e-02,  1.34593369e-02,  1.66432224e-02,  3.10790222e-02,\n",
              "        2.24965420e-02,  4.78760041e-02, -9.34150815e-02, -1.89543776e-02,\n",
              "       -3.14441808e-02,  2.40610703e-03,  1.66853971e-03, -9.15161241e-03,\n",
              "        5.11187240e-02, -1.15147464e-01, -1.25977779e-02, -2.52116863e-02,\n",
              "       -2.90919542e-02,  7.99994916e-02, -3.22231754e-05, -1.91517267e-02,\n",
              "        4.80091423e-02, -9.68403369e-02,  1.48319993e-02, -4.56617139e-02,\n",
              "        1.20168375e-02, -7.99469575e-02, -1.89629048e-02,  1.19416090e-02,\n",
              "       -7.53896758e-02,  5.17976135e-02,  4.99888510e-02, -4.54045087e-02,\n",
              "       -2.62610763e-02, -4.82155532e-02, -2.30117422e-02,  8.47474635e-02,\n",
              "        1.51358377e-02,  7.14165717e-02, -4.50285040e-02, -2.50624884e-02,\n",
              "        4.03907597e-02,  4.14043069e-02, -1.53107187e-02, -2.40416713e-02,\n",
              "       -2.50740983e-02, -5.85114360e-02, -2.49650460e-02,  1.97264180e-02,\n",
              "       -3.65791004e-03, -8.30450375e-03, -3.36905406e-03,  1.75555684e-02,\n",
              "        2.09106635e-02,  7.32002780e-02, -3.78042124e-02,  4.60463911e-02,\n",
              "        7.62780234e-02,  2.89715193e-02,  4.24882546e-02,  4.50081713e-02,\n",
              "       -8.82572830e-02, -7.18859732e-02, -3.90583128e-02, -6.69435561e-02,\n",
              "        8.68782625e-02, -9.54624712e-02,  1.20018590e-02,  6.10884605e-03,\n",
              "       -2.78986357e-02, -3.28549221e-02, -4.04435210e-02,  3.99977192e-02,\n",
              "       -2.43783873e-02, -1.94112118e-02,  7.31547251e-02, -1.05135025e-32,\n",
              "       -6.22817539e-02, -9.96843260e-03,  9.81857534e-03, -1.87141076e-02,\n",
              "       -3.52328308e-02,  6.07101694e-02,  2.58851480e-02,  2.47691888e-02,\n",
              "       -1.68797467e-02, -2.51591429e-02,  2.85556242e-02, -7.87485316e-02,\n",
              "       -3.36764306e-02,  1.74703345e-01, -2.82446593e-02,  1.09043522e-02,\n",
              "        1.97129920e-02,  3.73841636e-02,  1.10868365e-03, -5.20221069e-02,\n",
              "       -9.31336954e-02, -2.34695300e-02,  4.69048209e-02, -3.60381007e-02,\n",
              "        6.34067506e-02,  1.05282050e-02, -2.08331328e-02, -6.12187460e-02,\n",
              "       -1.92103200e-02, -1.74872745e-02,  5.70015013e-02,  4.71662134e-02,\n",
              "       -5.54480776e-02,  4.14114678e-03,  6.44237474e-02, -1.08454647e-02,\n",
              "       -2.77964678e-02,  9.39516053e-02, -6.51313141e-02, -1.25990920e-02,\n",
              "        2.26010382e-02, -4.81382906e-02,  1.39696412e-02, -3.71387452e-02,\n",
              "       -2.82129701e-02, -4.31376919e-02,  5.30581176e-02,  6.57273605e-02,\n",
              "        4.75425087e-02, -5.10602910e-03,  1.31051898e-01, -5.84222078e-02,\n",
              "        6.91987798e-02, -2.11269641e-03, -3.19685712e-02, -3.70695814e-02,\n",
              "        4.42864224e-02, -2.50193682e-02,  4.63384613e-02,  3.45520191e-02,\n",
              "        1.99757908e-02,  2.98320018e-02,  4.10127118e-02,  4.96686846e-02,\n",
              "       -6.13520555e-02, -2.62316596e-03,  6.41088188e-03, -9.16941389e-02,\n",
              "       -6.67035580e-02,  3.36316451e-02, -4.47341837e-02, -8.59723240e-02,\n",
              "        3.80861498e-02, -2.22965535e-02,  4.06936335e-04, -4.66290936e-02,\n",
              "       -3.91141698e-02,  9.66547616e-03, -7.22482353e-02,  7.43448138e-02,\n",
              "        6.37997165e-02, -3.09837125e-02,  3.36124264e-02, -9.68839303e-02,\n",
              "       -1.56399950e-01,  1.79515541e-01,  7.44547462e-03, -2.50101201e-02,\n",
              "        1.09214105e-01,  6.94364384e-02, -2.11071763e-02, -2.49961503e-02,\n",
              "       -1.83977024e-03,  7.67410249e-02,  6.15836829e-02,  5.54434180e-33,\n",
              "       -1.34842712e-02, -1.42982779e-02,  1.21412454e-02,  1.75990425e-02,\n",
              "       -1.44205578e-02, -4.34972048e-02, -1.91540476e-02,  7.29182176e-03,\n",
              "       -5.74525893e-02, -6.75976425e-02,  4.32244614e-02,  7.51095936e-02,\n",
              "        9.18646008e-02,  3.33378017e-02,  8.49375222e-03,  4.23699878e-02,\n",
              "       -3.02865654e-02,  3.98404561e-02,  4.22505513e-02,  8.10177997e-03,\n",
              "       -7.35993544e-03,  9.44592338e-03, -1.72188766e-02, -3.57664153e-02,\n",
              "       -5.20630255e-02, -1.55253976e-03,  6.97396398e-02,  3.66946422e-02,\n",
              "       -3.52073498e-02, -8.98845568e-02, -2.59351283e-02, -1.59543753e-02,\n",
              "        1.71229169e-02, -1.14760391e-01,  1.68327037e-02,  5.30362464e-02,\n",
              "       -4.61592562e-02,  1.65354665e-02, -5.87186329e-02,  1.22653367e-02,\n",
              "       -2.69821379e-02,  5.53667620e-02,  4.01774943e-02,  1.88894523e-03,\n",
              "       -1.43915322e-02, -6.29868880e-02,  7.28359148e-02, -2.84501668e-02,\n",
              "       -2.82420553e-02,  7.20244125e-02,  7.77091607e-02,  1.04806190e-02,\n",
              "        1.33752590e-02, -3.21034081e-02,  5.02722599e-02,  1.01580054e-01,\n",
              "       -1.65462896e-01,  1.35461157e-02, -2.08679237e-03, -4.10928614e-02,\n",
              "       -6.72135577e-02,  1.22787198e-02,  7.77254775e-02,  3.11617814e-02,\n",
              "        7.72693902e-02, -3.59209292e-02, -9.79408622e-04, -3.87590565e-02,\n",
              "        1.92842893e-02,  4.95382724e-03, -2.95509640e-02, -6.54097321e-03,\n",
              "        9.47449207e-02,  3.91735695e-02,  3.70317176e-02,  3.23000215e-02,\n",
              "       -6.53281510e-02, -8.94227773e-02, -2.95923408e-02, -5.43613024e-02,\n",
              "       -2.57950369e-02, -9.12758335e-02,  8.31672829e-03,  3.16176675e-02,\n",
              "       -2.73827724e-02, -5.34428423e-03, -5.06871715e-02,  4.06782515e-03,\n",
              "       -7.43218046e-03, -3.37608494e-02,  4.77416953e-03, -3.94982956e-02,\n",
              "        3.57612297e-02,  9.39658750e-03,  3.28359269e-02, -1.84382625e-08,\n",
              "        7.45243430e-02, -1.06816076e-01, -7.59047121e-02, -9.87497158e-03,\n",
              "        1.12258922e-03, -1.74560938e-02, -4.01223116e-02, -1.12355426e-01,\n",
              "        6.70996085e-02,  3.79296653e-02, -6.45059794e-02,  7.15599731e-02,\n",
              "        1.59374271e-02,  3.26894596e-02, -7.48092532e-02, -8.04078057e-02,\n",
              "       -2.80750524e-02, -2.63068359e-02, -2.53901109e-02,  7.38632958e-03,\n",
              "       -5.59696602e-03,  8.08719359e-03, -1.63340420e-02, -2.58914065e-02,\n",
              "        7.06782192e-02,  4.41005602e-02,  1.02897082e-02,  6.54087067e-02,\n",
              "        4.56053279e-02, -3.59178782e-02,  5.38860634e-02,  9.28110555e-02,\n",
              "        2.55284254e-02,  4.05782014e-02,  5.65579049e-02,  9.06259660e-03,\n",
              "       -2.76811011e-02,  6.76745102e-02, -3.86536494e-02, -9.99705344e-02,\n",
              "        6.24111071e-02, -3.46461497e-02,  9.62237641e-02,  7.61212548e-03,\n",
              "       -9.63763148e-02,  4.15111855e-02, -1.06963469e-03,  5.12014031e-02,\n",
              "        1.42341675e-02,  2.66442560e-02, -3.74684855e-02,  1.02689505e-01,\n",
              "       -2.25296021e-02,  8.06813966e-03,  7.36186933e-03, -3.88621502e-02,\n",
              "        2.18165778e-02, -4.27428484e-02,  4.81291898e-02, -3.35247070e-02,\n",
              "        3.06020919e-02, -1.61939431e-02, -6.02289736e-02, -4.11505289e-02],\n",
              "      dtype=float32)"
            ]
          },
          "metadata": {},
          "execution_count": 43
        }
      ]
    },
    {
      "cell_type": "code",
      "source": [
        "#Add all pairs to a list with their cosine similarity score\n",
        "all_sentence_combinations = []\n",
        "for i in range(len(cos_sim)-1):\n",
        "    for j in range(i+1, len(cos_sim)):\n",
        "        all_sentence_combinations.append((cos_sim[i][j], i, j))\n",
        "all_sentence_combinations"
      ],
      "metadata": {
        "colab": {
          "base_uri": "https://localhost:8080/"
        },
        "id": "BnX-1DLgi7q5",
        "outputId": "d60b55a6-f501-4f75-f760-5b5abeeb2ca4"
      },
      "execution_count": null,
      "outputs": [
        {
          "output_type": "execute_result",
          "data": {
            "text/plain": [
              "[(tensor(0.7553), 0, 1),\n",
              " (tensor(-0.1050), 0, 2),\n",
              " (tensor(0.2474), 0, 3),\n",
              " (tensor(-0.0704), 0, 4),\n",
              " (tensor(-0.0333), 0, 5),\n",
              " (tensor(0.1707), 0, 6),\n",
              " (tensor(0.0476), 0, 7),\n",
              " (tensor(0.0630), 0, 8),\n",
              " (tensor(-0.0610), 1, 2),\n",
              " (tensor(0.1442), 1, 3),\n",
              " (tensor(-0.0809), 1, 4),\n",
              " (tensor(-0.0216), 1, 5),\n",
              " (tensor(0.1157), 1, 6),\n",
              " (tensor(0.0362), 1, 7),\n",
              " (tensor(0.0216), 1, 8),\n",
              " (tensor(-0.1088), 2, 3),\n",
              " (tensor(0.0217), 2, 4),\n",
              " (tensor(-0.0413), 2, 5),\n",
              " (tensor(-0.0928), 2, 6),\n",
              " (tensor(0.0231), 2, 7),\n",
              " (tensor(0.0247), 2, 8),\n",
              " (tensor(-0.0348), 3, 4),\n",
              " (tensor(0.0362), 3, 5),\n",
              " (tensor(0.7369), 3, 6),\n",
              " (tensor(0.0821), 3, 7),\n",
              " (tensor(0.1389), 3, 8),\n",
              " (tensor(-0.1654), 4, 5),\n",
              " (tensor(-0.0592), 4, 6),\n",
              " (tensor(0.1961), 4, 7),\n",
              " (tensor(0.2564), 4, 8),\n",
              " (tensor(0.0769), 5, 6),\n",
              " (tensor(-0.0380), 5, 7),\n",
              " (tensor(-0.0895), 5, 8),\n",
              " (tensor(0.0495), 6, 7),\n",
              " (tensor(0.1191), 6, 8),\n",
              " (tensor(0.6433), 7, 8)]"
            ]
          },
          "metadata": {},
          "execution_count": 40
        }
      ]
    },
    {
      "cell_type": "code",
      "source": [
        "\n",
        "#Sort list by the highest cosine similarity score\n",
        "all_sentence_combinations = sorted(all_sentence_combinations, key=lambda x: x[0], reverse=True)\n",
        "\n",
        "print(\"Top-5 most similar pairs:\")\n",
        "for score, i, j in all_sentence_combinations[0:5]:\n",
        "    print(\"{} \\t {} \\t {:.4f}\".format(sentences[i], sentences[j], cos_sim[i][j]))"
      ],
      "metadata": {
        "colab": {
          "base_uri": "https://localhost:8080/"
        },
        "id": "VA2DyCMQjAlq",
        "outputId": "6283b987-a9c5-469c-d2b4-bb33b02ccc2b"
      },
      "execution_count": null,
      "outputs": [
        {
          "output_type": "stream",
          "name": "stdout",
          "text": [
            "Top-5 most similar pairs:\n",
            "A man is eating food. \t A man is eating a piece of bread. \t 0.7553\n",
            "A man is riding a horse. \t A man is riding a white horse on an enclosed ground. \t 0.7369\n",
            "A monkey is playing drums. \t Someone in a gorilla costume is playing a set of drums. \t 0.6433\n",
            "A woman is playing violin. \t Someone in a gorilla costume is playing a set of drums. \t 0.2564\n",
            "A man is eating food. \t A man is riding a horse. \t 0.2474\n"
          ]
        }
      ]
    },
    {
      "cell_type": "markdown",
      "source": [
        "Clustering"
      ],
      "metadata": {
        "id": "adyfqtEzqB8o"
      }
    },
    {
      "cell_type": "code",
      "source": [
        "from sklearn.cluster import KMeans\n",
        "import numpy as np\n",
        "\n",
        "embedder = SentenceTransformer('all-MiniLM-L6-v2')\n",
        "\n",
        "# Corpus with example sentences\n",
        "corpus = ['A man is eating food.',\n",
        "          'A man is eating a piece of bread.',\n",
        "          'Horse is eating grass.',\n",
        "          'A man is eating pasta.',\n",
        "          'A Woman is eating Biryani.',\n",
        "          'The girl is carrying a baby.',\n",
        "          'The baby is carried by the woman',\n",
        "          'A man is riding a horse.',\n",
        "          'A man is riding a white horse on an enclosed ground.',\n",
        "          'A monkey is playing drums.',\n",
        "          'Someone in a gorilla costume is playing a set of drums.',\n",
        "          'A cheetah is running behind its prey.',\n",
        "          'A cheetah chases prey on across a field.',\n",
        "          'The cheetah is chasing a man who is riding the horse.',\n",
        "          'man and women with their baby are watching cheetah in zoo'\n",
        "          ]\n",
        "corpus_embeddings = embedder.encode(corpus)\n",
        "\n",
        "# Normalize the embeddings to unit length\n",
        "corpus_embeddings = corpus_embeddings /  np.linalg.norm(corpus_embeddings, axis=1, keepdims=True)"
      ],
      "metadata": {
        "id": "6PHeGTqwp_5X"
      },
      "execution_count": null,
      "outputs": []
    },
    {
      "cell_type": "code",
      "source": [
        "corpus_embeddings[0]"
      ],
      "metadata": {
        "colab": {
          "base_uri": "https://localhost:8080/"
        },
        "id": "KnC57Hw6qdhV",
        "outputId": "c24f4549-cd14-4fcf-e820-5e73818b4129"
      },
      "execution_count": null,
      "outputs": [
        {
          "output_type": "execute_result",
          "data": {
            "text/plain": [
              "array([ 3.32415923e-02,  4.40611131e-03, -6.27698097e-03,  4.83787395e-02,\n",
              "       -1.38702288e-01, -3.36174108e-02,  1.01128370e-01, -5.43849692e-02,\n",
              "       -4.32477817e-02, -3.99411246e-02,  7.78633682e-03, -1.27489287e-02,\n",
              "       -6.68302402e-02, -1.73865426e-02,  4.74506281e-02, -5.77242412e-02,\n",
              "        1.01888366e-01, -9.11662937e-04,  8.22615027e-02, -5.03415726e-02,\n",
              "        6.77302927e-02,  4.08765152e-02, -3.58018912e-02, -1.00682415e-01,\n",
              "       -6.69354713e-03, -5.31686284e-02,  1.00335158e-01, -5.46135865e-02,\n",
              "       -2.28481367e-02,  1.38387140e-02,  7.48658478e-02, -6.17880039e-02,\n",
              "        6.39215931e-02,  1.62387323e-02, -5.32299615e-02, -3.86084318e-02,\n",
              "        3.15275863e-02, -8.11529905e-02, -3.31432372e-02, -5.38505905e-04,\n",
              "       -3.96069745e-03, -1.52734164e-02, -9.86421946e-04,  9.57987979e-02,\n",
              "       -5.42920306e-02,  1.84572097e-02, -1.07143618e-01,  1.38884904e-02,\n",
              "        3.94072384e-02, -2.69243568e-02, -9.15988758e-02, -1.14195142e-02,\n",
              "        3.38137113e-02, -2.58435160e-02,  6.42616972e-02,  1.21140815e-02,\n",
              "        2.17769705e-02,  9.14833248e-02, -1.05038397e-01, -2.19194852e-02,\n",
              "        3.13341133e-02, -5.51602170e-02,  2.85099875e-02, -2.41230838e-02,\n",
              "        4.93363515e-02, -6.83656260e-02, -1.92747544e-02, -1.20984334e-02,\n",
              "       -2.41998155e-02,  8.59286636e-03,  2.44424529e-02, -2.21199803e-02,\n",
              "        2.30441950e-02, -6.58110753e-02,  2.15516891e-02, -5.73471226e-02,\n",
              "       -3.23901363e-02, -4.10174467e-02, -4.30545956e-02,  1.76683068e-02,\n",
              "       -2.10633632e-02,  7.49821812e-02,  5.92474407e-03, -4.94789481e-02,\n",
              "       -3.33417468e-02, -2.06239279e-02, -6.73606992e-02,  3.62833850e-02,\n",
              "        6.11591339e-03,  1.06227562e-01,  4.10532057e-02, -2.78882924e-02,\n",
              "        4.46733981e-02, -5.75409969e-03, -3.08236456e-03,  7.32073048e-03,\n",
              "        6.70676259e-03, -1.11919314e-01, -4.19771299e-02,  1.55870821e-02,\n",
              "       -6.08682958e-03, -6.00534119e-02, -7.60561451e-02,  4.71620783e-02,\n",
              "        7.39115253e-02,  6.24972582e-02, -1.46030169e-02,  9.48640928e-02,\n",
              "        1.12924585e-02,  2.73233727e-02,  2.27233469e-02,  9.87781510e-02,\n",
              "       -3.64427343e-02, -5.83572760e-02, -1.99695509e-02, -4.18248251e-02,\n",
              "        3.11294496e-02, -8.99449065e-02,  5.51204607e-02,  1.36714457e-02,\n",
              "       -3.40965129e-02, -2.86793411e-02, -6.10937439e-02,  4.15455885e-02,\n",
              "        2.16080640e-02,  2.28618048e-02,  3.53959724e-02, -9.43607446e-33,\n",
              "       -6.18031025e-02, -3.99049819e-02,  4.38860804e-02, -1.60403848e-02,\n",
              "       -1.41446413e-02,  3.63023989e-02,  2.00500470e-02,  3.81174944e-02,\n",
              "        3.72892879e-02, -2.99208276e-02,  4.87194993e-02, -7.95639157e-02,\n",
              "       -2.58924719e-02,  1.10532008e-01, -1.82541786e-03, -3.87838855e-02,\n",
              "        1.79861281e-02,  7.54713714e-02,  2.44741999e-02, -7.54612871e-03,\n",
              "       -2.19475478e-02, -7.51488209e-02,  9.75173786e-02, -2.65040677e-02,\n",
              "        3.86312678e-02,  2.62330826e-02, -7.32397512e-02, -3.70308980e-02,\n",
              "        2.59496383e-02, -2.26728283e-02, -3.00286934e-02,  1.29193719e-02,\n",
              "       -2.77013518e-02,  2.83002891e-02,  4.86158440e-03, -5.71165010e-02,\n",
              "       -2.18038708e-02,  6.92435503e-02, -1.18935764e-01, -4.98170145e-02,\n",
              "        4.32335250e-02,  1.70024782e-02,  7.30389263e-03,  1.43865552e-02,\n",
              "       -4.22601923e-02, -7.58892577e-03,  5.31133786e-02,  4.09749337e-02,\n",
              "        2.55921744e-02, -2.72243246e-02,  7.61195645e-02, -1.10254973e-01,\n",
              "        4.06797305e-02, -7.57930800e-02, -3.51872295e-02, -5.10324948e-02,\n",
              "        7.62796551e-02, -4.88098189e-02,  2.35468186e-02,  7.77142704e-04,\n",
              "        4.14824747e-02,  1.73592158e-02,  2.74433177e-02,  2.61377580e-02,\n",
              "       -1.15254603e-03, -2.98288185e-02, -2.06660982e-02, -8.19080546e-02,\n",
              "       -4.05889079e-02,  5.22970185e-02, -2.61428300e-03, -3.56226973e-02,\n",
              "        1.97486058e-02, -5.36792018e-02,  4.41925414e-02, -4.05502841e-02,\n",
              "       -6.37340769e-02, -4.05501090e-02, -5.22590093e-02,  6.06483035e-02,\n",
              "        1.72247794e-02,  3.08878440e-03,  6.00465015e-02, -3.73600535e-02,\n",
              "       -1.21510781e-01,  1.61314532e-01, -4.61263284e-02, -2.64850017e-02,\n",
              "        1.87209964e-01,  4.24325094e-02, -3.42258960e-02, -5.67740295e-03,\n",
              "       -3.11737414e-03,  7.14473799e-02, -2.14104820e-02,  6.09827918e-33,\n",
              "       -4.77253720e-02,  3.29859816e-02, -1.50410216e-02,  2.39303447e-02,\n",
              "        3.09744328e-02, -6.31124973e-02, -5.67483865e-02,  8.22224915e-02,\n",
              "        1.07796565e-02, -1.07598305e-01,  4.49222326e-02,  9.84302163e-02,\n",
              "        1.03995606e-01,  2.51473598e-02, -2.31832638e-03,  1.05414942e-01,\n",
              "       -1.52274352e-02,  1.88150210e-04, -6.89868955e-03,  2.45490223e-02,\n",
              "       -1.48937041e-02, -1.75375491e-03, -2.66639404e-02, -5.22379130e-02,\n",
              "       -5.99954166e-02,  5.14648855e-02,  4.81264368e-02,  7.12119788e-02,\n",
              "       -4.21591252e-02, -4.30838652e-02,  2.57721823e-02,  3.09154484e-02,\n",
              "        6.09707236e-02, -1.10712633e-01,  4.67466228e-02,  2.67193448e-02,\n",
              "       -2.93815881e-02, -1.18761593e-02, -2.43340116e-02,  4.77989428e-02,\n",
              "        3.74036469e-02,  4.54420187e-02,  3.41177545e-02,  1.79315396e-02,\n",
              "       -8.33183993e-03, -6.03108369e-02,  4.96554449e-02, -5.72078116e-02,\n",
              "       -1.30771911e-02,  1.71759743e-02,  4.65734899e-02, -2.16879062e-02,\n",
              "       -5.93098858e-03, -6.68296739e-02,  5.09953499e-02,  1.10223986e-01,\n",
              "       -8.14205110e-02,  8.81507248e-02, -2.48112786e-03, -4.10474204e-02,\n",
              "       -6.12075254e-02,  1.14096887e-02,  6.72479570e-02,  3.73031087e-02,\n",
              "        8.42112955e-03,  2.33193636e-02,  5.45049347e-02, -3.50759402e-02,\n",
              "        3.10199857e-02, -7.03159301e-03, -3.49310152e-02, -2.34680306e-02,\n",
              "        6.28779978e-02,  1.04744313e-03,  1.42257484e-02,  2.57082656e-03,\n",
              "       -2.43061706e-02,  2.54761335e-02,  2.33831797e-02, -2.72507668e-02,\n",
              "       -1.94817164e-03, -4.63263504e-02,  1.80353969e-02, -7.81268405e-04,\n",
              "       -5.35299890e-02,  2.68154126e-03, -4.89934050e-02, -7.58572435e-03,\n",
              "        1.11466711e-02,  5.76151162e-02, -1.22422092e-02, -7.96029493e-02,\n",
              "        3.67450416e-02,  4.82221879e-02,  8.61350894e-02, -1.69084249e-08,\n",
              "        6.80828989e-02, -1.11274227e-01, -7.76560307e-02,  1.86822191e-02,\n",
              "        4.58801575e-02, -3.83767858e-02, -6.15787096e-02, -1.11348338e-01,\n",
              "        1.09334834e-01,  2.34655309e-02, -9.15680751e-02,  3.59425284e-02,\n",
              "       -1.44540640e-02, -2.52894629e-02, -3.63747263e-03, -7.85413310e-02,\n",
              "        3.37138958e-02,  5.26644872e-04, -3.08579672e-02,  1.23676499e-02,\n",
              "       -3.43577680e-03, -7.16427201e-03, -3.29638757e-02, -3.50171328e-02,\n",
              "        9.90642756e-02,  1.65034346e-02, -3.68755423e-02,  6.94361031e-02,\n",
              "        5.29176295e-02,  5.10922540e-03,  5.38597330e-02,  5.78274429e-02,\n",
              "       -1.45294787e-02,  4.38301452e-02,  8.42988268e-02, -4.70053544e-03,\n",
              "       -3.00964229e-02,  1.93790719e-02,  2.56121159e-02, -9.00144130e-02,\n",
              "       -7.12279277e-03, -1.48721263e-02,  3.97881493e-02, -3.10355122e-03,\n",
              "       -8.67705569e-02,  1.05223805e-01,  1.66949295e-02,  5.55669777e-02,\n",
              "        1.99541952e-02,  1.00046687e-03, -3.83120514e-02,  5.81094399e-02,\n",
              "        3.65599035e-03, -4.72678207e-02,  2.45520547e-02, -2.65945401e-02,\n",
              "        5.68771251e-02,  4.76567075e-03,  5.03440052e-02, -5.63884042e-02,\n",
              "        2.13037245e-02,  6.91729859e-02, -2.45848689e-02, -3.75643745e-02],\n",
              "      dtype=float32)"
            ]
          },
          "metadata": {},
          "execution_count": 73
        }
      ]
    },
    {
      "cell_type": "code",
      "source": [
        "# source: https://stackoverflow.com/questions/55619176/how-to-cluster-similar-sentences-using-bert\n",
        "\n",
        "clustering_model = KMeans(n_clusters=4)\n",
        "clustering_model.fit(corpus_embeddings)\n",
        "cluster_assignment = clustering_model.labels_\n",
        "print(cluster_assignment)"
      ],
      "metadata": {
        "colab": {
          "base_uri": "https://localhost:8080/"
        },
        "id": "hB5ndv4iqkpd",
        "outputId": "e8d48a62-4ffe-4e39-c4ac-ade4c4aa4ea0"
      },
      "execution_count": null,
      "outputs": [
        {
          "output_type": "stream",
          "name": "stdout",
          "text": [
            "[3 3 1 3 3 2 2 1 1 0 0 1 1 1 2]\n"
          ]
        },
        {
          "output_type": "stream",
          "name": "stderr",
          "text": [
            "/usr/local/lib/python3.10/dist-packages/sklearn/cluster/_kmeans.py:870: FutureWarning: The default value of `n_init` will change from 10 to 'auto' in 1.4. Set the value of `n_init` explicitly to suppress the warning\n",
            "  warnings.warn(\n"
          ]
        }
      ]
    },
    {
      "cell_type": "code",
      "source": [
        "clustered_sentences = {}\n",
        "for sentence_id, cluster_id in enumerate(cluster_assignment):\n",
        "    if cluster_id not in clustered_sentences:\n",
        "        clustered_sentences[cluster_id] = []\n",
        "\n",
        "    clustered_sentences[cluster_id].append(corpus[sentence_id])\n",
        "clustered_sentences"
      ],
      "metadata": {
        "colab": {
          "base_uri": "https://localhost:8080/"
        },
        "id": "5XEBVi61rRaX",
        "outputId": "404b9759-e804-41fa-8b3f-08b132e47736"
      },
      "execution_count": null,
      "outputs": [
        {
          "output_type": "execute_result",
          "data": {
            "text/plain": [
              "{3: ['A man is eating food.',\n",
              "  'A man is eating a piece of bread.',\n",
              "  'A man is eating pasta.',\n",
              "  'A Woman is eating Biryani.'],\n",
              " 1: ['Horse is eating grass.',\n",
              "  'A man is riding a horse.',\n",
              "  'A man is riding a white horse on an enclosed ground.',\n",
              "  'A cheetah is running behind its prey.',\n",
              "  'A cheetah chases prey on across a field.',\n",
              "  'The cheetah is chasing a man who is riding the horse.'],\n",
              " 2: ['The girl is carrying a baby.',\n",
              "  'The baby is carried by the woman',\n",
              "  'man and women with their baby are watching cheetah in zoo'],\n",
              " 0: ['A monkey is playing drums.',\n",
              "  'Someone in a gorilla costume is playing a set of drums.']}"
            ]
          },
          "metadata": {},
          "execution_count": 76
        }
      ]
    },
    {
      "cell_type": "code",
      "source": [],
      "metadata": {
        "id": "JbXGmaCFSgWp"
      },
      "execution_count": null,
      "outputs": []
    },
    {
      "cell_type": "markdown",
      "source": [
        "Classification based on https://spotintelligence.com/2023/02/15/word2vec-for-text-classification/"
      ],
      "metadata": {
        "id": "_VMtM-0zrTLu"
      }
    },
    {
      "cell_type": "code",
      "source": [
        "!wget https://s3.amazonaws.com/arrival/embeddings/wiki.multi.en.vec -O /tmp/wiki.multi.en.vec\n",
        "!wget https://s3.amazonaws.com/arrival/embeddings/wiki.multi.fr.vec -O /tmp/wiki.multi.fr.vec"
      ],
      "metadata": {
        "id": "HJAaCBrFrVrB",
        "colab": {
          "base_uri": "https://localhost:8080/"
        },
        "outputId": "f33e2f6a-45c0-4d07-8f64-7749f7348c10"
      },
      "execution_count": null,
      "outputs": [
        {
          "output_type": "stream",
          "name": "stdout",
          "text": [
            "--2024-01-25 15:50:17--  https://s3.amazonaws.com/arrival/embeddings/wiki.multi.en.vec\n",
            "Resolving s3.amazonaws.com (s3.amazonaws.com)... 52.217.125.128, 54.231.160.104, 52.217.121.64, ...\n",
            "Connecting to s3.amazonaws.com (s3.amazonaws.com)|52.217.125.128|:443... connected.\n",
            "HTTP request sent, awaiting response... 301 Moved Permanently\n",
            "Location: unspecified\n",
            "ERROR: Redirection (301) without location.\n",
            "--2024-01-25 15:50:17--  https://s3.amazonaws.com/arrival/embeddings/wiki.multi.fr.vec\n",
            "Resolving s3.amazonaws.com (s3.amazonaws.com)... 52.217.125.128, 54.231.160.104, 52.217.121.64, ...\n",
            "Connecting to s3.amazonaws.com (s3.amazonaws.com)|52.217.125.128|:443... connected.\n",
            "HTTP request sent, awaiting response... 301 Moved Permanently\n",
            "Location: unspecified\n",
            "ERROR: Redirection (301) without location.\n"
          ]
        }
      ]
    },
    {
      "cell_type": "code",
      "source": [
        "import pandas as pd\n",
        "url1 = 'https://raw.githubusercontent.com/LinaAguilar0697/content_classification/main/Notebooks/competence_definitions.csv'\n",
        "url2 = 'https://raw.githubusercontent.com/LinaAguilar0697/content_classification/main/Notebooks/content_gsheet_info.csv'\n",
        "\n",
        "competence_definitions = pd.read_csv(url1)\n",
        "contents_to_clasify  = pd.read_csv(url2)"
      ],
      "metadata": {
        "id": "mGiSRMm-U8mE"
      },
      "execution_count": null,
      "outputs": []
    },
    {
      "cell_type": "code",
      "source": [
        "competence_definitions.head()"
      ],
      "metadata": {
        "colab": {
          "base_uri": "https://localhost:8080/",
          "height": 543
        },
        "id": "JC08lLdWftIh",
        "outputId": "a0908a97-57dd-4844-c479-63f7313abdf0"
      },
      "execution_count": null,
      "outputs": [
        {
          "output_type": "execute_result",
          "data": {
            "text/plain": [
              "   id_competence              competence  \\\n",
              "0            1.0          Accountability   \n",
              "1            1.0          Accountability   \n",
              "2            1.0          Accountability   \n",
              "3            2.0  Inteligencia emocional   \n",
              "4            2.0  Inteligencia emocional   \n",
              "\n",
              "                               competence_definition  id_skill  \\\n",
              "0  Una persona demuestra su accountability cuando...       1.0   \n",
              "1  Una persona demuestra su accountability cuando...       2.0   \n",
              "2  Una persona demuestra su accountability cuando...       3.0   \n",
              "3  Una persona demuestra su inteligencia emociona...       4.0   \n",
              "4  Una persona demuestra su inteligencia emociona...       5.0   \n",
              "\n",
              "            ability                                 ability_definition  \\\n",
              "0       Autogestión  Habilidad para orientar la toma de decisiones ...   \n",
              "1      Proactividad  Habilidad para tomar activamente el control y ...   \n",
              "2        Integridad  Habilidad para alinear las acciones propias a ...   \n",
              "3           Empatía  Habilidad para identificarse con el otro recon...   \n",
              "4  Autoconocimiento  Habilidad para reconocer los propios estados m...   \n",
              "\n",
              "                                    course_abilities  \n",
              "0  Autogestión: \\nHabilidad para orientar la toma...  \n",
              "1  Proactividad: \\nHabilidad para tomar activamen...  \n",
              "2  Integridad: \\nHabilidad para alinear las accio...  \n",
              "3  Empatía: \\nHabilidad para identificarse con el...  \n",
              "4  Autoconocimiento: \\nHabilidad para reconocer l...  "
            ],
            "text/html": [
              "\n",
              "  <div id=\"df-f8371c09-7895-412d-a3da-95b7fd682c83\" class=\"colab-df-container\">\n",
              "    <div>\n",
              "<style scoped>\n",
              "    .dataframe tbody tr th:only-of-type {\n",
              "        vertical-align: middle;\n",
              "    }\n",
              "\n",
              "    .dataframe tbody tr th {\n",
              "        vertical-align: top;\n",
              "    }\n",
              "\n",
              "    .dataframe thead th {\n",
              "        text-align: right;\n",
              "    }\n",
              "</style>\n",
              "<table border=\"1\" class=\"dataframe\">\n",
              "  <thead>\n",
              "    <tr style=\"text-align: right;\">\n",
              "      <th></th>\n",
              "      <th>id_competence</th>\n",
              "      <th>competence</th>\n",
              "      <th>competence_definition</th>\n",
              "      <th>id_skill</th>\n",
              "      <th>ability</th>\n",
              "      <th>ability_definition</th>\n",
              "      <th>course_abilities</th>\n",
              "    </tr>\n",
              "  </thead>\n",
              "  <tbody>\n",
              "    <tr>\n",
              "      <th>0</th>\n",
              "      <td>1.0</td>\n",
              "      <td>Accountability</td>\n",
              "      <td>Una persona demuestra su accountability cuando...</td>\n",
              "      <td>1.0</td>\n",
              "      <td>Autogestión</td>\n",
              "      <td>Habilidad para orientar la toma de decisiones ...</td>\n",
              "      <td>Autogestión: \\nHabilidad para orientar la toma...</td>\n",
              "    </tr>\n",
              "    <tr>\n",
              "      <th>1</th>\n",
              "      <td>1.0</td>\n",
              "      <td>Accountability</td>\n",
              "      <td>Una persona demuestra su accountability cuando...</td>\n",
              "      <td>2.0</td>\n",
              "      <td>Proactividad</td>\n",
              "      <td>Habilidad para tomar activamente el control y ...</td>\n",
              "      <td>Proactividad: \\nHabilidad para tomar activamen...</td>\n",
              "    </tr>\n",
              "    <tr>\n",
              "      <th>2</th>\n",
              "      <td>1.0</td>\n",
              "      <td>Accountability</td>\n",
              "      <td>Una persona demuestra su accountability cuando...</td>\n",
              "      <td>3.0</td>\n",
              "      <td>Integridad</td>\n",
              "      <td>Habilidad para alinear las acciones propias a ...</td>\n",
              "      <td>Integridad: \\nHabilidad para alinear las accio...</td>\n",
              "    </tr>\n",
              "    <tr>\n",
              "      <th>3</th>\n",
              "      <td>2.0</td>\n",
              "      <td>Inteligencia emocional</td>\n",
              "      <td>Una persona demuestra su inteligencia emociona...</td>\n",
              "      <td>4.0</td>\n",
              "      <td>Empatía</td>\n",
              "      <td>Habilidad para identificarse con el otro recon...</td>\n",
              "      <td>Empatía: \\nHabilidad para identificarse con el...</td>\n",
              "    </tr>\n",
              "    <tr>\n",
              "      <th>4</th>\n",
              "      <td>2.0</td>\n",
              "      <td>Inteligencia emocional</td>\n",
              "      <td>Una persona demuestra su inteligencia emociona...</td>\n",
              "      <td>5.0</td>\n",
              "      <td>Autoconocimiento</td>\n",
              "      <td>Habilidad para reconocer los propios estados m...</td>\n",
              "      <td>Autoconocimiento: \\nHabilidad para reconocer l...</td>\n",
              "    </tr>\n",
              "  </tbody>\n",
              "</table>\n",
              "</div>\n",
              "    <div class=\"colab-df-buttons\">\n",
              "\n",
              "  <div class=\"colab-df-container\">\n",
              "    <button class=\"colab-df-convert\" onclick=\"convertToInteractive('df-f8371c09-7895-412d-a3da-95b7fd682c83')\"\n",
              "            title=\"Convert this dataframe to an interactive table.\"\n",
              "            style=\"display:none;\">\n",
              "\n",
              "  <svg xmlns=\"http://www.w3.org/2000/svg\" height=\"24px\" viewBox=\"0 -960 960 960\">\n",
              "    <path d=\"M120-120v-720h720v720H120Zm60-500h600v-160H180v160Zm220 220h160v-160H400v160Zm0 220h160v-160H400v160ZM180-400h160v-160H180v160Zm440 0h160v-160H620v160ZM180-180h160v-160H180v160Zm440 0h160v-160H620v160Z\"/>\n",
              "  </svg>\n",
              "    </button>\n",
              "\n",
              "  <style>\n",
              "    .colab-df-container {\n",
              "      display:flex;\n",
              "      gap: 12px;\n",
              "    }\n",
              "\n",
              "    .colab-df-convert {\n",
              "      background-color: #E8F0FE;\n",
              "      border: none;\n",
              "      border-radius: 50%;\n",
              "      cursor: pointer;\n",
              "      display: none;\n",
              "      fill: #1967D2;\n",
              "      height: 32px;\n",
              "      padding: 0 0 0 0;\n",
              "      width: 32px;\n",
              "    }\n",
              "\n",
              "    .colab-df-convert:hover {\n",
              "      background-color: #E2EBFA;\n",
              "      box-shadow: 0px 1px 2px rgba(60, 64, 67, 0.3), 0px 1px 3px 1px rgba(60, 64, 67, 0.15);\n",
              "      fill: #174EA6;\n",
              "    }\n",
              "\n",
              "    .colab-df-buttons div {\n",
              "      margin-bottom: 4px;\n",
              "    }\n",
              "\n",
              "    [theme=dark] .colab-df-convert {\n",
              "      background-color: #3B4455;\n",
              "      fill: #D2E3FC;\n",
              "    }\n",
              "\n",
              "    [theme=dark] .colab-df-convert:hover {\n",
              "      background-color: #434B5C;\n",
              "      box-shadow: 0px 1px 3px 1px rgba(0, 0, 0, 0.15);\n",
              "      filter: drop-shadow(0px 1px 2px rgba(0, 0, 0, 0.3));\n",
              "      fill: #FFFFFF;\n",
              "    }\n",
              "  </style>\n",
              "\n",
              "    <script>\n",
              "      const buttonEl =\n",
              "        document.querySelector('#df-f8371c09-7895-412d-a3da-95b7fd682c83 button.colab-df-convert');\n",
              "      buttonEl.style.display =\n",
              "        google.colab.kernel.accessAllowed ? 'block' : 'none';\n",
              "\n",
              "      async function convertToInteractive(key) {\n",
              "        const element = document.querySelector('#df-f8371c09-7895-412d-a3da-95b7fd682c83');\n",
              "        const dataTable =\n",
              "          await google.colab.kernel.invokeFunction('convertToInteractive',\n",
              "                                                    [key], {});\n",
              "        if (!dataTable) return;\n",
              "\n",
              "        const docLinkHtml = 'Like what you see? Visit the ' +\n",
              "          '<a target=\"_blank\" href=https://colab.research.google.com/notebooks/data_table.ipynb>data table notebook</a>'\n",
              "          + ' to learn more about interactive tables.';\n",
              "        element.innerHTML = '';\n",
              "        dataTable['output_type'] = 'display_data';\n",
              "        await google.colab.output.renderOutput(dataTable, element);\n",
              "        const docLink = document.createElement('div');\n",
              "        docLink.innerHTML = docLinkHtml;\n",
              "        element.appendChild(docLink);\n",
              "      }\n",
              "    </script>\n",
              "  </div>\n",
              "\n",
              "\n",
              "<div id=\"df-73d7635c-f467-4863-9862-410556afe223\">\n",
              "  <button class=\"colab-df-quickchart\" onclick=\"quickchart('df-73d7635c-f467-4863-9862-410556afe223')\"\n",
              "            title=\"Suggest charts\"\n",
              "            style=\"display:none;\">\n",
              "\n",
              "<svg xmlns=\"http://www.w3.org/2000/svg\" height=\"24px\"viewBox=\"0 0 24 24\"\n",
              "     width=\"24px\">\n",
              "    <g>\n",
              "        <path d=\"M19 3H5c-1.1 0-2 .9-2 2v14c0 1.1.9 2 2 2h14c1.1 0 2-.9 2-2V5c0-1.1-.9-2-2-2zM9 17H7v-7h2v7zm4 0h-2V7h2v10zm4 0h-2v-4h2v4z\"/>\n",
              "    </g>\n",
              "</svg>\n",
              "  </button>\n",
              "\n",
              "<style>\n",
              "  .colab-df-quickchart {\n",
              "      --bg-color: #E8F0FE;\n",
              "      --fill-color: #1967D2;\n",
              "      --hover-bg-color: #E2EBFA;\n",
              "      --hover-fill-color: #174EA6;\n",
              "      --disabled-fill-color: #AAA;\n",
              "      --disabled-bg-color: #DDD;\n",
              "  }\n",
              "\n",
              "  [theme=dark] .colab-df-quickchart {\n",
              "      --bg-color: #3B4455;\n",
              "      --fill-color: #D2E3FC;\n",
              "      --hover-bg-color: #434B5C;\n",
              "      --hover-fill-color: #FFFFFF;\n",
              "      --disabled-bg-color: #3B4455;\n",
              "      --disabled-fill-color: #666;\n",
              "  }\n",
              "\n",
              "  .colab-df-quickchart {\n",
              "    background-color: var(--bg-color);\n",
              "    border: none;\n",
              "    border-radius: 50%;\n",
              "    cursor: pointer;\n",
              "    display: none;\n",
              "    fill: var(--fill-color);\n",
              "    height: 32px;\n",
              "    padding: 0;\n",
              "    width: 32px;\n",
              "  }\n",
              "\n",
              "  .colab-df-quickchart:hover {\n",
              "    background-color: var(--hover-bg-color);\n",
              "    box-shadow: 0 1px 2px rgba(60, 64, 67, 0.3), 0 1px 3px 1px rgba(60, 64, 67, 0.15);\n",
              "    fill: var(--button-hover-fill-color);\n",
              "  }\n",
              "\n",
              "  .colab-df-quickchart-complete:disabled,\n",
              "  .colab-df-quickchart-complete:disabled:hover {\n",
              "    background-color: var(--disabled-bg-color);\n",
              "    fill: var(--disabled-fill-color);\n",
              "    box-shadow: none;\n",
              "  }\n",
              "\n",
              "  .colab-df-spinner {\n",
              "    border: 2px solid var(--fill-color);\n",
              "    border-color: transparent;\n",
              "    border-bottom-color: var(--fill-color);\n",
              "    animation:\n",
              "      spin 1s steps(1) infinite;\n",
              "  }\n",
              "\n",
              "  @keyframes spin {\n",
              "    0% {\n",
              "      border-color: transparent;\n",
              "      border-bottom-color: var(--fill-color);\n",
              "      border-left-color: var(--fill-color);\n",
              "    }\n",
              "    20% {\n",
              "      border-color: transparent;\n",
              "      border-left-color: var(--fill-color);\n",
              "      border-top-color: var(--fill-color);\n",
              "    }\n",
              "    30% {\n",
              "      border-color: transparent;\n",
              "      border-left-color: var(--fill-color);\n",
              "      border-top-color: var(--fill-color);\n",
              "      border-right-color: var(--fill-color);\n",
              "    }\n",
              "    40% {\n",
              "      border-color: transparent;\n",
              "      border-right-color: var(--fill-color);\n",
              "      border-top-color: var(--fill-color);\n",
              "    }\n",
              "    60% {\n",
              "      border-color: transparent;\n",
              "      border-right-color: var(--fill-color);\n",
              "    }\n",
              "    80% {\n",
              "      border-color: transparent;\n",
              "      border-right-color: var(--fill-color);\n",
              "      border-bottom-color: var(--fill-color);\n",
              "    }\n",
              "    90% {\n",
              "      border-color: transparent;\n",
              "      border-bottom-color: var(--fill-color);\n",
              "    }\n",
              "  }\n",
              "</style>\n",
              "\n",
              "  <script>\n",
              "    async function quickchart(key) {\n",
              "      const quickchartButtonEl =\n",
              "        document.querySelector('#' + key + ' button');\n",
              "      quickchartButtonEl.disabled = true;  // To prevent multiple clicks.\n",
              "      quickchartButtonEl.classList.add('colab-df-spinner');\n",
              "      try {\n",
              "        const charts = await google.colab.kernel.invokeFunction(\n",
              "            'suggestCharts', [key], {});\n",
              "      } catch (error) {\n",
              "        console.error('Error during call to suggestCharts:', error);\n",
              "      }\n",
              "      quickchartButtonEl.classList.remove('colab-df-spinner');\n",
              "      quickchartButtonEl.classList.add('colab-df-quickchart-complete');\n",
              "    }\n",
              "    (() => {\n",
              "      let quickchartButtonEl =\n",
              "        document.querySelector('#df-73d7635c-f467-4863-9862-410556afe223 button');\n",
              "      quickchartButtonEl.style.display =\n",
              "        google.colab.kernel.accessAllowed ? 'block' : 'none';\n",
              "    })();\n",
              "  </script>\n",
              "</div>\n",
              "    </div>\n",
              "  </div>\n"
            ]
          },
          "metadata": {},
          "execution_count": 27
        }
      ]
    },
    {
      "cell_type": "code",
      "source": [
        "contents_to_clasify"
      ],
      "metadata": {
        "colab": {
          "base_uri": "https://localhost:8080/",
          "height": 423
        },
        "id": "qWq7Kw22X-OB",
        "outputId": "6777316d-961b-45a0-8732-0fc38be7cc16"
      },
      "execution_count": null,
      "outputs": [
        {
          "output_type": "execute_result",
          "data": {
            "text/plain": [
              "                                        <!DOCTYPE html>\n",
              "0                                                 <html\n",
              "1                                             lang=\"en\"\n",
              "2       data-color-mode=\"auto\" data-light-theme=\"lig...\n",
              "3       data-a11y-animated-images=\"system\" data-a11y...\n",
              "4                                                     >\n",
              "...                                                 ...\n",
              "1045                                             </div>\n",
              "1046      <div id=\"js-global-screen-reader-notice\" c...\n",
              "1047      <div id=\"js-global-screen-reader-notice-as...\n",
              "1048                                            </body>\n",
              "1049                                            </html>\n",
              "\n",
              "[1050 rows x 1 columns]"
            ],
            "text/html": [
              "\n",
              "  <div id=\"df-6ee59650-3032-4c28-bcfc-c57d4b8c919d\" class=\"colab-df-container\">\n",
              "    <div>\n",
              "<style scoped>\n",
              "    .dataframe tbody tr th:only-of-type {\n",
              "        vertical-align: middle;\n",
              "    }\n",
              "\n",
              "    .dataframe tbody tr th {\n",
              "        vertical-align: top;\n",
              "    }\n",
              "\n",
              "    .dataframe thead th {\n",
              "        text-align: right;\n",
              "    }\n",
              "</style>\n",
              "<table border=\"1\" class=\"dataframe\">\n",
              "  <thead>\n",
              "    <tr style=\"text-align: right;\">\n",
              "      <th></th>\n",
              "      <th>&lt;!DOCTYPE html&gt;</th>\n",
              "    </tr>\n",
              "  </thead>\n",
              "  <tbody>\n",
              "    <tr>\n",
              "      <th>0</th>\n",
              "      <td>&lt;html</td>\n",
              "    </tr>\n",
              "    <tr>\n",
              "      <th>1</th>\n",
              "      <td>lang=\"en\"</td>\n",
              "    </tr>\n",
              "    <tr>\n",
              "      <th>2</th>\n",
              "      <td>data-color-mode=\"auto\" data-light-theme=\"lig...</td>\n",
              "    </tr>\n",
              "    <tr>\n",
              "      <th>3</th>\n",
              "      <td>data-a11y-animated-images=\"system\" data-a11y...</td>\n",
              "    </tr>\n",
              "    <tr>\n",
              "      <th>4</th>\n",
              "      <td>&gt;</td>\n",
              "    </tr>\n",
              "    <tr>\n",
              "      <th>...</th>\n",
              "      <td>...</td>\n",
              "    </tr>\n",
              "    <tr>\n",
              "      <th>1045</th>\n",
              "      <td>&lt;/div&gt;</td>\n",
              "    </tr>\n",
              "    <tr>\n",
              "      <th>1046</th>\n",
              "      <td>&lt;div id=\"js-global-screen-reader-notice\" c...</td>\n",
              "    </tr>\n",
              "    <tr>\n",
              "      <th>1047</th>\n",
              "      <td>&lt;div id=\"js-global-screen-reader-notice-as...</td>\n",
              "    </tr>\n",
              "    <tr>\n",
              "      <th>1048</th>\n",
              "      <td>&lt;/body&gt;</td>\n",
              "    </tr>\n",
              "    <tr>\n",
              "      <th>1049</th>\n",
              "      <td>&lt;/html&gt;</td>\n",
              "    </tr>\n",
              "  </tbody>\n",
              "</table>\n",
              "<p>1050 rows × 1 columns</p>\n",
              "</div>\n",
              "    <div class=\"colab-df-buttons\">\n",
              "\n",
              "  <div class=\"colab-df-container\">\n",
              "    <button class=\"colab-df-convert\" onclick=\"convertToInteractive('df-6ee59650-3032-4c28-bcfc-c57d4b8c919d')\"\n",
              "            title=\"Convert this dataframe to an interactive table.\"\n",
              "            style=\"display:none;\">\n",
              "\n",
              "  <svg xmlns=\"http://www.w3.org/2000/svg\" height=\"24px\" viewBox=\"0 -960 960 960\">\n",
              "    <path d=\"M120-120v-720h720v720H120Zm60-500h600v-160H180v160Zm220 220h160v-160H400v160Zm0 220h160v-160H400v160ZM180-400h160v-160H180v160Zm440 0h160v-160H620v160ZM180-180h160v-160H180v160Zm440 0h160v-160H620v160Z\"/>\n",
              "  </svg>\n",
              "    </button>\n",
              "\n",
              "  <style>\n",
              "    .colab-df-container {\n",
              "      display:flex;\n",
              "      gap: 12px;\n",
              "    }\n",
              "\n",
              "    .colab-df-convert {\n",
              "      background-color: #E8F0FE;\n",
              "      border: none;\n",
              "      border-radius: 50%;\n",
              "      cursor: pointer;\n",
              "      display: none;\n",
              "      fill: #1967D2;\n",
              "      height: 32px;\n",
              "      padding: 0 0 0 0;\n",
              "      width: 32px;\n",
              "    }\n",
              "\n",
              "    .colab-df-convert:hover {\n",
              "      background-color: #E2EBFA;\n",
              "      box-shadow: 0px 1px 2px rgba(60, 64, 67, 0.3), 0px 1px 3px 1px rgba(60, 64, 67, 0.15);\n",
              "      fill: #174EA6;\n",
              "    }\n",
              "\n",
              "    .colab-df-buttons div {\n",
              "      margin-bottom: 4px;\n",
              "    }\n",
              "\n",
              "    [theme=dark] .colab-df-convert {\n",
              "      background-color: #3B4455;\n",
              "      fill: #D2E3FC;\n",
              "    }\n",
              "\n",
              "    [theme=dark] .colab-df-convert:hover {\n",
              "      background-color: #434B5C;\n",
              "      box-shadow: 0px 1px 3px 1px rgba(0, 0, 0, 0.15);\n",
              "      filter: drop-shadow(0px 1px 2px rgba(0, 0, 0, 0.3));\n",
              "      fill: #FFFFFF;\n",
              "    }\n",
              "  </style>\n",
              "\n",
              "    <script>\n",
              "      const buttonEl =\n",
              "        document.querySelector('#df-6ee59650-3032-4c28-bcfc-c57d4b8c919d button.colab-df-convert');\n",
              "      buttonEl.style.display =\n",
              "        google.colab.kernel.accessAllowed ? 'block' : 'none';\n",
              "\n",
              "      async function convertToInteractive(key) {\n",
              "        const element = document.querySelector('#df-6ee59650-3032-4c28-bcfc-c57d4b8c919d');\n",
              "        const dataTable =\n",
              "          await google.colab.kernel.invokeFunction('convertToInteractive',\n",
              "                                                    [key], {});\n",
              "        if (!dataTable) return;\n",
              "\n",
              "        const docLinkHtml = 'Like what you see? Visit the ' +\n",
              "          '<a target=\"_blank\" href=https://colab.research.google.com/notebooks/data_table.ipynb>data table notebook</a>'\n",
              "          + ' to learn more about interactive tables.';\n",
              "        element.innerHTML = '';\n",
              "        dataTable['output_type'] = 'display_data';\n",
              "        await google.colab.output.renderOutput(dataTable, element);\n",
              "        const docLink = document.createElement('div');\n",
              "        docLink.innerHTML = docLinkHtml;\n",
              "        element.appendChild(docLink);\n",
              "      }\n",
              "    </script>\n",
              "  </div>\n",
              "\n",
              "\n",
              "<div id=\"df-de3024a9-26e7-406f-a214-65ce062a44ee\">\n",
              "  <button class=\"colab-df-quickchart\" onclick=\"quickchart('df-de3024a9-26e7-406f-a214-65ce062a44ee')\"\n",
              "            title=\"Suggest charts\"\n",
              "            style=\"display:none;\">\n",
              "\n",
              "<svg xmlns=\"http://www.w3.org/2000/svg\" height=\"24px\"viewBox=\"0 0 24 24\"\n",
              "     width=\"24px\">\n",
              "    <g>\n",
              "        <path d=\"M19 3H5c-1.1 0-2 .9-2 2v14c0 1.1.9 2 2 2h14c1.1 0 2-.9 2-2V5c0-1.1-.9-2-2-2zM9 17H7v-7h2v7zm4 0h-2V7h2v10zm4 0h-2v-4h2v4z\"/>\n",
              "    </g>\n",
              "</svg>\n",
              "  </button>\n",
              "\n",
              "<style>\n",
              "  .colab-df-quickchart {\n",
              "      --bg-color: #E8F0FE;\n",
              "      --fill-color: #1967D2;\n",
              "      --hover-bg-color: #E2EBFA;\n",
              "      --hover-fill-color: #174EA6;\n",
              "      --disabled-fill-color: #AAA;\n",
              "      --disabled-bg-color: #DDD;\n",
              "  }\n",
              "\n",
              "  [theme=dark] .colab-df-quickchart {\n",
              "      --bg-color: #3B4455;\n",
              "      --fill-color: #D2E3FC;\n",
              "      --hover-bg-color: #434B5C;\n",
              "      --hover-fill-color: #FFFFFF;\n",
              "      --disabled-bg-color: #3B4455;\n",
              "      --disabled-fill-color: #666;\n",
              "  }\n",
              "\n",
              "  .colab-df-quickchart {\n",
              "    background-color: var(--bg-color);\n",
              "    border: none;\n",
              "    border-radius: 50%;\n",
              "    cursor: pointer;\n",
              "    display: none;\n",
              "    fill: var(--fill-color);\n",
              "    height: 32px;\n",
              "    padding: 0;\n",
              "    width: 32px;\n",
              "  }\n",
              "\n",
              "  .colab-df-quickchart:hover {\n",
              "    background-color: var(--hover-bg-color);\n",
              "    box-shadow: 0 1px 2px rgba(60, 64, 67, 0.3), 0 1px 3px 1px rgba(60, 64, 67, 0.15);\n",
              "    fill: var(--button-hover-fill-color);\n",
              "  }\n",
              "\n",
              "  .colab-df-quickchart-complete:disabled,\n",
              "  .colab-df-quickchart-complete:disabled:hover {\n",
              "    background-color: var(--disabled-bg-color);\n",
              "    fill: var(--disabled-fill-color);\n",
              "    box-shadow: none;\n",
              "  }\n",
              "\n",
              "  .colab-df-spinner {\n",
              "    border: 2px solid var(--fill-color);\n",
              "    border-color: transparent;\n",
              "    border-bottom-color: var(--fill-color);\n",
              "    animation:\n",
              "      spin 1s steps(1) infinite;\n",
              "  }\n",
              "\n",
              "  @keyframes spin {\n",
              "    0% {\n",
              "      border-color: transparent;\n",
              "      border-bottom-color: var(--fill-color);\n",
              "      border-left-color: var(--fill-color);\n",
              "    }\n",
              "    20% {\n",
              "      border-color: transparent;\n",
              "      border-left-color: var(--fill-color);\n",
              "      border-top-color: var(--fill-color);\n",
              "    }\n",
              "    30% {\n",
              "      border-color: transparent;\n",
              "      border-left-color: var(--fill-color);\n",
              "      border-top-color: var(--fill-color);\n",
              "      border-right-color: var(--fill-color);\n",
              "    }\n",
              "    40% {\n",
              "      border-color: transparent;\n",
              "      border-right-color: var(--fill-color);\n",
              "      border-top-color: var(--fill-color);\n",
              "    }\n",
              "    60% {\n",
              "      border-color: transparent;\n",
              "      border-right-color: var(--fill-color);\n",
              "    }\n",
              "    80% {\n",
              "      border-color: transparent;\n",
              "      border-right-color: var(--fill-color);\n",
              "      border-bottom-color: var(--fill-color);\n",
              "    }\n",
              "    90% {\n",
              "      border-color: transparent;\n",
              "      border-bottom-color: var(--fill-color);\n",
              "    }\n",
              "  }\n",
              "</style>\n",
              "\n",
              "  <script>\n",
              "    async function quickchart(key) {\n",
              "      const quickchartButtonEl =\n",
              "        document.querySelector('#' + key + ' button');\n",
              "      quickchartButtonEl.disabled = true;  // To prevent multiple clicks.\n",
              "      quickchartButtonEl.classList.add('colab-df-spinner');\n",
              "      try {\n",
              "        const charts = await google.colab.kernel.invokeFunction(\n",
              "            'suggestCharts', [key], {});\n",
              "      } catch (error) {\n",
              "        console.error('Error during call to suggestCharts:', error);\n",
              "      }\n",
              "      quickchartButtonEl.classList.remove('colab-df-spinner');\n",
              "      quickchartButtonEl.classList.add('colab-df-quickchart-complete');\n",
              "    }\n",
              "    (() => {\n",
              "      let quickchartButtonEl =\n",
              "        document.querySelector('#df-de3024a9-26e7-406f-a214-65ce062a44ee button');\n",
              "      quickchartButtonEl.style.display =\n",
              "        google.colab.kernel.accessAllowed ? 'block' : 'none';\n",
              "    })();\n",
              "  </script>\n",
              "</div>\n",
              "    </div>\n",
              "  </div>\n"
            ]
          },
          "metadata": {},
          "execution_count": 22
        }
      ]
    },
    {
      "cell_type": "code",
      "source": [
        "import numpy as np\n",
        "\n",
        "def load_vectors(embedding_file_path):\n",
        "    print(\"Loading vectors from\", embedding_file_path)\n",
        "    embeddings = []\n",
        "    word2id = {}\n",
        "    with open(embedding_file_path, 'r', encoding='utf-8') as f:\n",
        "        next(f)\n",
        "        for i, line in enumerate(f):\n",
        "            word, emb = line.rstrip().split(' ', 1)\n",
        "            emb = np.fromstring(emb, sep=' ')\n",
        "            assert word not in word2id, 'word found twice'\n",
        "            embeddings.append(emb)\n",
        "            word2id[word] = len(word2id)\n",
        "\n",
        "    embeddings = np.vstack(embeddings)\n",
        "    return embeddings, word2id\n",
        "\n",
        "embeddings_en, embedding_word2id_en = load_vectors(\"/tmp/wiki.multi.en.vec\")\n",
        "embeddings_fr, embedding_word2id_fr = load_vectors(\"/tmp/wiki.multi.fr.vec\")"
      ],
      "metadata": {
        "id": "EY0xG-r0UJ3l"
      },
      "execution_count": null,
      "outputs": []
    }
  ]
}